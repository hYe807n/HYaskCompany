{
 "cells": [
  {
   "cell_type": "code",
   "execution_count": 3,
   "id": "52f1aa7e",
   "metadata": {},
   "outputs": [],
   "source": [
    "import os\n",
    "os.environ['DJANGO_SETTINGS_MODULE'] = 'askcompany.settings'\n",
    "os.environ[\"DJANGO_ALLOW_ASYNC_UNSAFE\"] = \"true\"\n",
    "\n",
    "import django\n",
    "django.setup()\n"
   ]
  },
  {
   "cell_type": "code",
   "execution_count": 6,
   "id": "f590fd9d",
   "metadata": {},
   "outputs": [],
   "source": [
    "from instagram.models import Post, Comment"
   ]
  },
  {
   "cell_type": "code",
   "execution_count": 9,
   "id": "b100dcbf",
   "metadata": {},
   "outputs": [
    {
     "data": {
      "text/plain": [
       "<QuerySet []>"
      ]
     },
     "execution_count": 9,
     "metadata": {},
     "output_type": "execute_result"
    }
   ],
   "source": [
    "Comment.objects.all()"
   ]
  }
 ],
 "metadata": {
  "kernelspec": {
   "display_name": "Python 3 (ipykernel)",
   "language": "python",
   "name": "python3"
  },
  "language_info": {
   "codemirror_mode": {
    "name": "ipython",
    "version": 3
   },
   "file_extension": ".py",
   "mimetype": "text/x-python",
   "name": "python",
   "nbconvert_exporter": "python",
   "pygments_lexer": "ipython3",
   "version": "3.7.13"
  }
 },
 "nbformat": 4,
 "nbformat_minor": 5
}
